{
  "nbformat": 4,
  "nbformat_minor": 0,
  "metadata": {
    "colab": {
      "provenance": [],
      "authorship_tag": "ABX9TyPswfi/RaPxI/jQoEL+7St9",
      "include_colab_link": true
    },
    "kernelspec": {
      "name": "python3",
      "display_name": "Python 3"
    },
    "language_info": {
      "name": "python"
    }
  },
  "cells": [
    {
      "cell_type": "markdown",
      "metadata": {
        "id": "view-in-github",
        "colab_type": "text"
      },
      "source": [
        "<a href=\"https://colab.research.google.com/github/taufikhidayatt21C2/UTS-Kriftografi8/blob/main/Caesar_cipher%2CTaufik_Hidayat_312110066.ipynb\" target=\"_parent\"><img src=\"https://colab.research.google.com/assets/colab-badge.svg\" alt=\"Open In Colab\"/></a>"
      ]
    },
    {
      "cell_type": "code",
      "source": [
        "def caesar_cipher(text, shift):\n",
        "    result = \"\"\n",
        "\n",
        "    for char in text:\n",
        "        if char.isalpha():\n",
        "            # Determine whether the character is uppercase or lowercase\n",
        "            is_upper = char.isupper()\n",
        "\n",
        "            # Shift the character\n",
        "            shifted_char = chr((ord(char) - ord('A' if is_upper else 'a') + shift) % 26 + ord('A' if is_upper else 'a'))\n",
        "\n",
        "            result += shifted_char\n",
        "        else:\n",
        "            # If the character is not a letter, leave it unchanged\n",
        "            result += char\n",
        "\n",
        "    return result\n",
        "\n",
        "# Example usage:\n",
        "plaintext = \"taufik\"\n",
        "shift = 2\n",
        "encrypted_text = caesar_cipher(plaintext, shift)\n",
        "print(f\"Original text: {plaintext}\")\n",
        "print(f\"Encrypted text: {encrypted_text}\")\n"
      ],
      "metadata": {
        "colab": {
          "base_uri": "https://localhost:8080/"
        },
        "id": "rCO5QkqOF7Pb",
        "outputId": "67f56baa-016a-4e68-fe84-689c4ec80d19"
      },
      "execution_count": null,
      "outputs": [
        {
          "output_type": "stream",
          "name": "stdout",
          "text": [
            "Original text: taufik\n",
            "Encrypted text: vcwhkm\n"
          ]
        }
      ]
    }
  ]
}