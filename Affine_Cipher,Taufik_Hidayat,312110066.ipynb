{
  "nbformat": 4,
  "nbformat_minor": 0,
  "metadata": {
    "colab": {
      "provenance": [],
      "authorship_tag": "ABX9TyPVs4kGySWGrpnLICio1N9H",
      "include_colab_link": true
    },
    "kernelspec": {
      "name": "python3",
      "display_name": "Python 3"
    },
    "language_info": {
      "name": "python"
    }
  },
  "cells": [
    {
      "cell_type": "markdown",
      "metadata": {
        "id": "view-in-github",
        "colab_type": "text"
      },
      "source": [
        "<a href=\"https://colab.research.google.com/github/taufikhidayatt21C2/UTS-Kriftografi8/blob/main/Affine_Cipher%2CTaufik_Hidayat%2C312110066.ipynb\" target=\"_parent\"><img src=\"https://colab.research.google.com/assets/colab-badge.svg\" alt=\"Open In Colab\"/></a>"
      ]
    },
    {
      "cell_type": "code",
      "execution_count": null,
      "metadata": {
        "colab": {
          "base_uri": "https://localhost:8080/"
        },
        "id": "Ae-3JwGBUsoz",
        "outputId": "71185799-9c22-4773-f87f-89ad3ee9e9e2"
      },
      "outputs": [
        {
          "output_type": "stream",
          "name": "stdout",
          "text": [
            "Original text: Taufik\n",
            "Encrypted text: Ziehwg\n",
            "Decrypted text: Taufik\n"
          ]
        }
      ],
      "source": [
        "def egcd(a, b):\n",
        "    if a == 0:\n",
        "        return (b, 0, 1)\n",
        "    else:\n",
        "        g, x, y = egcd(b % a, a)\n",
        "        return (g, y - (b // a) * x, x)\n",
        "\n",
        "def modinv(a, m):\n",
        "    g, x, y = egcd(a, m)\n",
        "    if g != 1:\n",
        "        raise Exception('Modular inverse does not exist')\n",
        "    else:\n",
        "        return x % m\n",
        "\n",
        "def affine_encrypt(text, a, b):\n",
        "    result = \"\"\n",
        "    m = 26  # Assuming a standard English alphabet\n",
        "\n",
        "    for char in text:\n",
        "        if char.isalpha():\n",
        "            if char.isupper():\n",
        "                result += chr((a * (ord(char) - ord('A')) + b) % m + ord('A'))\n",
        "            else:\n",
        "                result += chr((a * (ord(char) - ord('a')) + b) % m + ord('a'))\n",
        "        else:\n",
        "            result += char\n",
        "\n",
        "    return result\n",
        "\n",
        "def affine_decrypt(ciphertext, a, b):\n",
        "    result = \"\"\n",
        "    m = 26  # Assuming a standard English alphabet\n",
        "    a_inv = modinv(a, m)\n",
        "\n",
        "    for char in ciphertext:\n",
        "        if char.isalpha():\n",
        "            if char.isupper():\n",
        "                result += chr((a_inv * (ord(char) - ord('A') - b)) % m + ord('A'))\n",
        "            else:\n",
        "                result += chr((a_inv * (ord(char) - ord('a') - b)) % m + ord('a'))\n",
        "        else:\n",
        "            result += char\n",
        "\n",
        "    return result\n",
        "\n",
        "# Example usage:\n",
        "plaintext = \"Taufik\"\n",
        "key_a = 5\n",
        "key_b = 8\n",
        "\n",
        "encrypted_text = affine_encrypt(plaintext, key_a, key_b)\n",
        "decrypted_text = affine_decrypt(encrypted_text, key_a, key_b)\n",
        "\n",
        "print(\"Original text:\", plaintext)\n",
        "print(\"Encrypted text:\", encrypted_text)\n",
        "print(\"Decrypted text:\", decrypted_text)\n"
      ]
    }
  ]
}