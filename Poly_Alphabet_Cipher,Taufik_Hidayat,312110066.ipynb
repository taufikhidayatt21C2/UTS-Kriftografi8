{
  "nbformat": 4,
  "nbformat_minor": 0,
  "metadata": {
    "colab": {
      "provenance": [],
      "authorship_tag": "ABX9TyNkUKsxm7caDJFmztG+kreO",
      "include_colab_link": true
    },
    "kernelspec": {
      "name": "python3",
      "display_name": "Python 3"
    },
    "language_info": {
      "name": "python"
    }
  },
  "cells": [
    {
      "cell_type": "markdown",
      "metadata": {
        "id": "view-in-github",
        "colab_type": "text"
      },
      "source": [
        "<a href=\"https://colab.research.google.com/github/taufikhidayatt21C2/UTS-Kriftografi8/blob/main/Poly_Alphabet_Cipher%2CTaufik_Hidayat%2C312110066.ipynb\" target=\"_parent\"><img src=\"https://colab.research.google.com/assets/colab-badge.svg\" alt=\"Open In Colab\"/></a>"
      ]
    },
    {
      "cell_type": "code",
      "source": [
        "def polyalphabetic_cipher(plaintext, key):\n",
        "    result = \"\"\n",
        "    key = key.upper()\n",
        "    key_length = len(key)\n",
        "\n",
        "    for i, char in enumerate(plaintext):\n",
        "        if char.isalpha():\n",
        "            # Determine whether the character is uppercase or lowercase\n",
        "            is_upper = char.isupper()\n",
        "\n",
        "            # Get the corresponding key character for the current position\n",
        "            key_char = key[i % key_length]\n",
        "\n",
        "            # Calculate the shift based on the key character\n",
        "            shift = ord(key_char) - ord('A')\n",
        "\n",
        "            # Shift the character\n",
        "            shifted_char = chr((ord(char) - ord('A' if is_upper else 'a') - shift) % 26 + ord('A' if is_upper else 'a'))\n",
        "\n",
        "            result += shifted_char\n",
        "        else:\n",
        "            # If the character is not a letter, leave it unchanged\n",
        "            result += char\n",
        "\n",
        "    return result\n",
        "\n",
        "# Example usage:\n",
        "plaintext = \"HELLO WWORD\"\n",
        "key = \"123456\"\n",
        "encrypted_text = polyalphabetic_cipher(plaintext, key)\n",
        "print(f\"Original text: {plaintext}\")\n",
        "print(f\"Encrypted text: {encrypted_text}\")\n"
      ],
      "metadata": {
        "colab": {
          "base_uri": "https://localhost:8080/"
        },
        "id": "XyDGGbTpD444",
        "outputId": "c19ecb98-0279-4d76-d663-69b15deefd41"
      },
      "execution_count": null,
      "outputs": [
        {
          "output_type": "stream",
          "name": "stdout",
          "text": [
            "Original text: HELLO WWORD\n",
            "Encrypted text: XTZYA MLCEP\n"
          ]
        }
      ]
    }
  ]
}