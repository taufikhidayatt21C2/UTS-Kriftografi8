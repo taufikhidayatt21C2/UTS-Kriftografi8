{
  "nbformat": 4,
  "nbformat_minor": 0,
  "metadata": {
    "colab": {
      "provenance": [],
      "authorship_tag": "ABX9TyMONApBDEU/yAzTNcVgzYFS",
      "include_colab_link": true
    },
    "kernelspec": {
      "name": "python3",
      "display_name": "Python 3"
    },
    "language_info": {
      "name": "python"
    }
  },
  "cells": [
    {
      "cell_type": "markdown",
      "metadata": {
        "id": "view-in-github",
        "colab_type": "text"
      },
      "source": [
        "<a href=\"https://colab.research.google.com/github/taufikhidayatt21C2/UTS-Kriftografi8/blob/main/Hill_Cipher_Taufik_Hidayat_312110066.ipynb\" target=\"_parent\"><img src=\"https://colab.research.google.com/assets/colab-badge.svg\" alt=\"Open In Colab\"/></a>"
      ]
    },
    {
      "cell_type": "code",
      "source": [
        "import numpy as np\n",
        "\n",
        "def prepare_text(text, block_size):\n",
        "    # Pad the text with 'X' to make its length a multiple of block_size\n",
        "    padded_text = text + 'X' * ((block_size - len(text) % block_size) % block_size)\n",
        "    return padded_text\n",
        "\n",
        "def text_to_matrix(text, block_size):\n",
        "    # Convert the text to a matrix of numbers (A=0, B=1, ..., Z=25)\n",
        "    matrix = []\n",
        "    for char in text:\n",
        "        if char.isalpha():\n",
        "            matrix.append(ord(char.upper()) - ord('A'))\n",
        "    return np.array(matrix).reshape(-1, block_size)\n",
        "\n",
        "def matrix_to_text(matrix):\n",
        "    # Convert the matrix of numbers back to text\n",
        "    text = ''\n",
        "    for row in matrix:\n",
        "        for num in row:\n",
        "            text += chr(num + ord('A'))\n",
        "    return text\n",
        "\n",
        "def hill_cipher_encrypt(plaintext, key_matrix):\n",
        "    block_size = len(key_matrix)\n",
        "\n",
        "    # Prepare the plaintext\n",
        "    plaintext = prepare_text(plaintext, block_size)\n",
        "\n",
        "    # Convert the plaintext to a matrix\n",
        "    plaintext_matrix = text_to_matrix(plaintext, block_size)\n",
        "\n",
        "    # Encrypt each block of the plaintext using the key matrix\n",
        "    encrypted_matrix = (np.dot(plaintext_matrix, key_matrix) % 26).astype(int)\n",
        "\n",
        "    # Convert the encrypted matrix back to text\n",
        "    ciphertext = matrix_to_text(encrypted_matrix)\n",
        "\n",
        "    return ciphertext\n",
        "\n",
        "# Example usage:\n",
        "plaintext = \"Taufik\"\n",
        "key_matrix = np.array([[6, 24], [1, 13]])\n",
        "encrypted_text = hill_cipher_encrypt(plaintext, key_matrix)\n",
        "print(f\"Original text: {plaintext}\")\n",
        "print(f\"Encrypted text: {encrypted_text}\")"
      ],
      "metadata": {
        "colab": {
          "base_uri": "https://localhost:8080/"
        },
        "id": "JsnbtfSrDDOz",
        "outputId": "036923a8-6d05-406a-9894-c3f36984a873"
      },
      "execution_count": null,
      "outputs": [
        {
          "output_type": "stream",
          "name": "stdout",
          "text": [
            "Original text: Taufik\n",
            "Encrypted text: KOVZGK\n"
          ]
        }
      ]
    }
  ]
}